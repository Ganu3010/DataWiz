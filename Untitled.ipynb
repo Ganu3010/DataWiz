{
 "cells": [
  {
   "cell_type": "code",
   "execution_count": 1,
   "id": "1f7af468",
   "metadata": {},
   "outputs": [],
   "source": [
    "import numpy as np\n",
    "import pandas as pd\n",
    "import matplotlib.pyplot as plt\n",
    "import seaborn as sns"
   ]
  },
  {
   "cell_type": "code",
   "execution_count": 2,
   "id": "695ef7d2",
   "metadata": {},
   "outputs": [],
   "source": [
    "df = pd.read_excel('data.xlsx')"
   ]
  },
  {
   "cell_type": "code",
   "execution_count": 3,
   "id": "5be9df77",
   "metadata": {},
   "outputs": [
    {
     "data": {
      "text/html": [
       "<div>\n",
       "<style scoped>\n",
       "    .dataframe tbody tr th:only-of-type {\n",
       "        vertical-align: middle;\n",
       "    }\n",
       "\n",
       "    .dataframe tbody tr th {\n",
       "        vertical-align: top;\n",
       "    }\n",
       "\n",
       "    .dataframe thead th {\n",
       "        text-align: right;\n",
       "    }\n",
       "</style>\n",
       "<table border=\"1\" class=\"dataframe\">\n",
       "  <thead>\n",
       "    <tr style=\"text-align: right;\">\n",
       "      <th></th>\n",
       "      <th>3PEM</th>\n",
       "      <th>TIME</th>\n",
       "      <th>MSV-1</th>\n",
       "      <th>MSV-2</th>\n",
       "      <th>PT-1</th>\n",
       "      <th>FT-3</th>\n",
       "      <th>FT-1</th>\n",
       "      <th>FT-2</th>\n",
       "      <th>TT-1</th>\n",
       "      <th>TT-2</th>\n",
       "      <th>...</th>\n",
       "      <th>ECONS</th>\n",
       "      <th>VFD-101</th>\n",
       "      <th>SCR</th>\n",
       "      <th>MSV1-AI-FB</th>\n",
       "      <th>FCV-1</th>\n",
       "      <th>TT-5</th>\n",
       "      <th>TT-6</th>\n",
       "      <th>LT-1</th>\n",
       "      <th>Vw</th>\n",
       "      <th>Vs</th>\n",
       "    </tr>\n",
       "  </thead>\n",
       "  <tbody>\n",
       "    <tr>\n",
       "      <th>0</th>\n",
       "      <td>0</td>\n",
       "      <td>Wed Jan 27 14:39:29 IST 2021</td>\n",
       "      <td>0</td>\n",
       "      <td>0</td>\n",
       "      <td>0.01</td>\n",
       "      <td>0.2</td>\n",
       "      <td>0.0</td>\n",
       "      <td>0.0</td>\n",
       "      <td>24.40</td>\n",
       "      <td>24.620001</td>\n",
       "      <td>...</td>\n",
       "      <td>0</td>\n",
       "      <td>0.0</td>\n",
       "      <td>0.0</td>\n",
       "      <td>3.85</td>\n",
       "      <td>0</td>\n",
       "      <td>0.24</td>\n",
       "      <td>24.639999</td>\n",
       "      <td>83.570000</td>\n",
       "      <td>0.017716</td>\n",
       "      <td>0.003483</td>\n",
       "    </tr>\n",
       "    <tr>\n",
       "      <th>1</th>\n",
       "      <td>0</td>\n",
       "      <td>Wed Jan 27 14:39:30 IST 2021</td>\n",
       "      <td>0</td>\n",
       "      <td>0</td>\n",
       "      <td>0.01</td>\n",
       "      <td>0.2</td>\n",
       "      <td>0.0</td>\n",
       "      <td>0.0</td>\n",
       "      <td>24.40</td>\n",
       "      <td>24.620001</td>\n",
       "      <td>...</td>\n",
       "      <td>0</td>\n",
       "      <td>0.0</td>\n",
       "      <td>0.0</td>\n",
       "      <td>3.88</td>\n",
       "      <td>0</td>\n",
       "      <td>0.24</td>\n",
       "      <td>24.620001</td>\n",
       "      <td>83.559998</td>\n",
       "      <td>0.017714</td>\n",
       "      <td>0.003485</td>\n",
       "    </tr>\n",
       "    <tr>\n",
       "      <th>2</th>\n",
       "      <td>0</td>\n",
       "      <td>Wed Jan 27 14:39:30 IST 2021</td>\n",
       "      <td>0</td>\n",
       "      <td>0</td>\n",
       "      <td>0.01</td>\n",
       "      <td>0.2</td>\n",
       "      <td>0.0</td>\n",
       "      <td>0.0</td>\n",
       "      <td>24.42</td>\n",
       "      <td>24.620001</td>\n",
       "      <td>...</td>\n",
       "      <td>0</td>\n",
       "      <td>0.0</td>\n",
       "      <td>0.0</td>\n",
       "      <td>3.88</td>\n",
       "      <td>0</td>\n",
       "      <td>0.24</td>\n",
       "      <td>24.639999</td>\n",
       "      <td>83.570000</td>\n",
       "      <td>0.017716</td>\n",
       "      <td>0.003483</td>\n",
       "    </tr>\n",
       "    <tr>\n",
       "      <th>3</th>\n",
       "      <td>0</td>\n",
       "      <td>Wed Jan 27 14:39:30 IST 2021</td>\n",
       "      <td>0</td>\n",
       "      <td>0</td>\n",
       "      <td>0.01</td>\n",
       "      <td>0.2</td>\n",
       "      <td>0.0</td>\n",
       "      <td>0.0</td>\n",
       "      <td>24.40</td>\n",
       "      <td>24.620001</td>\n",
       "      <td>...</td>\n",
       "      <td>0</td>\n",
       "      <td>0.0</td>\n",
       "      <td>0.0</td>\n",
       "      <td>3.82</td>\n",
       "      <td>0</td>\n",
       "      <td>0.24</td>\n",
       "      <td>24.639999</td>\n",
       "      <td>83.570000</td>\n",
       "      <td>0.017716</td>\n",
       "      <td>0.003483</td>\n",
       "    </tr>\n",
       "    <tr>\n",
       "      <th>4</th>\n",
       "      <td>0</td>\n",
       "      <td>Wed Jan 27 14:39:30 IST 2021</td>\n",
       "      <td>0</td>\n",
       "      <td>0</td>\n",
       "      <td>0.01</td>\n",
       "      <td>0.2</td>\n",
       "      <td>0.0</td>\n",
       "      <td>0.0</td>\n",
       "      <td>24.40</td>\n",
       "      <td>24.620001</td>\n",
       "      <td>...</td>\n",
       "      <td>0</td>\n",
       "      <td>0.0</td>\n",
       "      <td>0.0</td>\n",
       "      <td>3.54</td>\n",
       "      <td>0</td>\n",
       "      <td>0.24</td>\n",
       "      <td>24.639999</td>\n",
       "      <td>83.570000</td>\n",
       "      <td>0.017716</td>\n",
       "      <td>0.003483</td>\n",
       "    </tr>\n",
       "  </tbody>\n",
       "</table>\n",
       "<p>5 rows × 24 columns</p>\n",
       "</div>"
      ],
      "text/plain": [
       "   3PEM                          TIME  MSV-1  MSV-2  PT-1  FT-3  FT-1  FT-2  \\\n",
       "0     0  Wed Jan 27 14:39:29 IST 2021      0      0  0.01   0.2   0.0   0.0   \n",
       "1     0  Wed Jan 27 14:39:30 IST 2021      0      0  0.01   0.2   0.0   0.0   \n",
       "2     0  Wed Jan 27 14:39:30 IST 2021      0      0  0.01   0.2   0.0   0.0   \n",
       "3     0  Wed Jan 27 14:39:30 IST 2021      0      0  0.01   0.2   0.0   0.0   \n",
       "4     0  Wed Jan 27 14:39:30 IST 2021      0      0  0.01   0.2   0.0   0.0   \n",
       "\n",
       "    TT-1       TT-2  ...  ECONS  VFD-101  SCR  MSV1-AI-FB  FCV-1  TT-5  \\\n",
       "0  24.40  24.620001  ...      0      0.0  0.0        3.85      0  0.24   \n",
       "1  24.40  24.620001  ...      0      0.0  0.0        3.88      0  0.24   \n",
       "2  24.42  24.620001  ...      0      0.0  0.0        3.88      0  0.24   \n",
       "3  24.40  24.620001  ...      0      0.0  0.0        3.82      0  0.24   \n",
       "4  24.40  24.620001  ...      0      0.0  0.0        3.54      0  0.24   \n",
       "\n",
       "        TT-6       LT-1        Vw        Vs  \n",
       "0  24.639999  83.570000  0.017716  0.003483  \n",
       "1  24.620001  83.559998  0.017714  0.003485  \n",
       "2  24.639999  83.570000  0.017716  0.003483  \n",
       "3  24.639999  83.570000  0.017716  0.003483  \n",
       "4  24.639999  83.570000  0.017716  0.003483  \n",
       "\n",
       "[5 rows x 24 columns]"
      ]
     },
     "execution_count": 3,
     "metadata": {},
     "output_type": "execute_result"
    }
   ],
   "source": [
    "df.head()"
   ]
  },
  {
   "cell_type": "code",
   "execution_count": 6,
   "id": "ddbfcfc2",
   "metadata": {},
   "outputs": [],
   "source": [
    "%matplotlib inline"
   ]
  },
  {
   "cell_type": "code",
   "execution_count": 12,
   "id": "9109012e",
   "metadata": {},
   "outputs": [
    {
     "data": {
      "text/plain": [
       "[<matplotlib.lines.Line2D at 0x1b987434550>]"
      ]
     },
     "execution_count": 12,
     "metadata": {},
     "output_type": "execute_result"
    },
    {
     "data": {
      "image/png": "[encoded data removed]",
      "text/plain": [
       "<Figure size 432x288 with 1 Axes>"
      ]
     },
     "metadata": {
      "needs_background": "light"
     },
     "output_type": "display_data"
    }
   ],
   "source": [
    "plt.plot(df.index, df['VFD-101'])"
   ]
  },
  {
   "cell_type": "code",
   "execution_count": null,
   "id": "c9a46767",
   "metadata": {},
   "outputs": [],
   "source": []
  }
 ],
 "metadata": {
  "kernelspec": {
   "display_name": "Python 3",
   "language": "python",
   "name": "python3"
  },
  "language_info": {
   "codemirror_mode": {
    "name": "ipython",
    "version": 3
   },
   "file_extension": ".py",
   "mimetype": "text/x-python",
   "name": "python",
   "nbconvert_exporter": "python",
   "pygments_lexer": "ipython3",
   "version": "3.8.8"
  }
 },
 "nbformat": 4,
 "nbformat_minor": 5
}
